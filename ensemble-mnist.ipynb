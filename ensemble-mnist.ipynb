{
 "cells": [
  {
   "cell_type": "code",
   "execution_count": 1,
   "metadata": {},
   "outputs": [],
   "source": [
    "import pandas as pd\n",
    "import numpy as np\n",
    "import matplotlib.pyplot as plt\n",
    "%matplotlib inline\n",
    "import scipy.sparse"
   ]
  },
  {
   "cell_type": "code",
   "execution_count": 2,
   "metadata": {},
   "outputs": [
    {
     "data": {
      "text/plain": [
       "{'DESCR': 'mldata.org dataset: mnist-original',\n",
       " 'COL_NAMES': ['label', 'data'],\n",
       " 'target': array([0., 0., 0., ..., 9., 9., 9.]),\n",
       " 'data': array([[0, 0, 0, ..., 0, 0, 0],\n",
       "        [0, 0, 0, ..., 0, 0, 0],\n",
       "        [0, 0, 0, ..., 0, 0, 0],\n",
       "        ...,\n",
       "        [0, 0, 0, ..., 0, 0, 0],\n",
       "        [0, 0, 0, ..., 0, 0, 0],\n",
       "        [0, 0, 0, ..., 0, 0, 0]], dtype=uint8)}"
      ]
     },
     "execution_count": 2,
     "metadata": {},
     "output_type": "execute_result"
    }
   ],
   "source": [
    "from sklearn.datasets import fetch_mldata\n",
    "mnist=fetch_mldata('MNIST original')\n",
    "mnist"
   ]
  },
  {
   "cell_type": "code",
   "execution_count": 3,
   "metadata": {},
   "outputs": [
    {
     "data": {
      "text/plain": [
       "(70000, 784)"
      ]
     },
     "execution_count": 3,
     "metadata": {},
     "output_type": "execute_result"
    }
   ],
   "source": [
    "X,y=mnist[\"data\"],mnist[\"target\"]\n",
    "X.shape"
   ]
  },
  {
   "cell_type": "code",
   "execution_count": 4,
   "metadata": {},
   "outputs": [
    {
     "data": {
      "text/plain": [
       "array([0, 0, 0, ..., 9, 9, 9])"
      ]
     },
     "execution_count": 4,
     "metadata": {},
     "output_type": "execute_result"
    }
   ],
   "source": [
    "y=y.astype(int)\n",
    "y"
   ]
  },
  {
   "cell_type": "code",
   "execution_count": 8,
   "metadata": {},
   "outputs": [],
   "source": [
    "X_train1 = X[:5000]\n",
    "y_train1 = y[:5000]\n",
    "X_validation1 = X[5000:6000]\n",
    "y_validation1 = y[5000:6000]\n",
    "\n",
    "X_train2 = X[6000:11000]\n",
    "y_train2 = y[6000:11000]\n",
    "X_validation2 = X[11000:12000]\n",
    "y_validation2 = y[11000:12000]\n",
    "\n",
    "X_train3 = X[12000:17000]\n",
    "y_train3 = y[12000:17000]\n",
    "X_validation3= X[17000:18000]\n",
    "y_validation3 = y[17000:18000]\n",
    "\n",
    "X_train4 = X[18000:23000]\n",
    "y_train4 = y[18000:23000]\n",
    "X_validation4= X[23000:24000]\n",
    "y_validation4 = y[23000:24000]\n",
    "\n",
    "X_train5 = X[24000:29000]\n",
    "y_train5 = y[24000:29000]\n",
    "X_validation5= X[29000:30000]\n",
    "y_validation5 = y[29000:30000]\n",
    "\n",
    "X_train6 = X[30000:35000]\n",
    "y_train6 = y[30000:35000]\n",
    "X_validation6= X[35000:36000]\n",
    "y_validation6 = y[35000:36000]\n",
    "\n",
    "X_train7 = X[36000:41000]\n",
    "y_train7 = y[36000:41000]\n",
    "X_validation7= X[41000:42000]\n",
    "y_validation7= y[41000:42000]\n",
    "\n",
    "X_train8 = X[42000:47000]\n",
    "y_train8 = y[42000:47000]\n",
    "X_validation8= X[47000:48000]\n",
    "y_validation8= y[47000:48000]\n",
    "\n",
    "X_train9 = X[42000:47000]\n",
    "y_train9 = y[42000:47000]\n",
    "X_validation9 = X[47000:48000]\n",
    "y_validation9 = y[47000:48000]\n",
    "\n",
    "X_train10 = X[48000:53000]\n",
    "y_train10 = y[48000:53000]\n",
    "X_validation10 = X[53000:54000]\n",
    "y_validation10= y[53000:54000]\n",
    "\n",
    "X_train11 = X[54000:59000]\n",
    "y_train11 = y[54000:59000]\n",
    "X_validation11 = X[59000:60000]\n",
    "y_validation11 = y[59000:60000]\n"
   ]
  },
  {
   "cell_type": "code",
   "execution_count": 9,
   "metadata": {},
   "outputs": [],
   "source": [
    "X_train = np.concatenate((X_train1, X_train2, X_train3,X_train4,X_train5,X_train6, X_train7, X_train8,X_train9,X_train10,X_train11), axis=0)"
   ]
  },
  {
   "cell_type": "code",
   "execution_count": 10,
   "metadata": {},
   "outputs": [],
   "source": [
    "y_train = np.concatenate((y_train1, y_train2, y_train3,y_train4,y_train5,y_train6, y_train7, y_train8,y_train9,y_train10,y_train11), axis=0)"
   ]
  },
  {
   "cell_type": "code",
   "execution_count": 11,
   "metadata": {},
   "outputs": [],
   "source": [
    "X_validation = np.concatenate((X_validation1,X_validation2,X_validation3,X_validation4,X_validation5,X_validation6,X_validation7,X_validation8,X_validation9,X_validation10,X_validation11), axis =0)"
   ]
  },
  {
   "cell_type": "code",
   "execution_count": 12,
   "metadata": {},
   "outputs": [],
   "source": [
    "y_validation = np.concatenate((y_validation1,y_validation2,y_validation3,y_validation4,y_validation5,y_validation6,y_validation7,y_validation8,y_validation9,y_validation10,y_validation11), axis = 0)"
   ]
  },
  {
   "cell_type": "code",
   "execution_count": 13,
   "metadata": {},
   "outputs": [],
   "source": [
    "from sklearn.naive_bayes import MultinomialNB\n",
    "from sklearn.ensemble import RandomForestClassifier\n",
    "from sklearn.ensemble import VotingClassifier\n",
    "from sklearn.svm import SVC\n",
    "\n",
    "nbclf=MultinomialNB()\n",
    "rfclf=RandomForestClassifier(n_estimators=500, random_state=42)\n",
    "svm_clf = SVC(gamma=0.1, kernel='poly', random_state = 0)"
   ]
  },
  {
   "cell_type": "code",
   "execution_count": 14,
   "metadata": {},
   "outputs": [
    {
     "name": "stdout",
     "output_type": "stream",
     "text": [
      "MultinomialNB 0.8244545454545454\n"
     ]
    }
   ],
   "source": [
    "from sklearn.metrics import accuracy_score\n",
    "\n",
    "clf = nbclf\n",
    "clf.fit(X_train,y_train)\n",
    "y_pred=clf.predict(X_validation)\n",
    "print(clf.__class__.__name__,accuracy_score(y_validation,y_pred))\n"
   ]
  },
  {
   "cell_type": "code",
   "execution_count": 15,
   "metadata": {},
   "outputs": [
    {
     "name": "stdout",
     "output_type": "stream",
     "text": [
      "SVC 0.9767272727272728\n"
     ]
    }
   ],
   "source": [
    "clf = svm_clf\n",
    "clf.fit(X_train,y_train)\n",
    "y_pred=clf.predict(X_validation)\n",
    "print(clf.__class__.__name__,accuracy_score(y_validation,y_pred))"
   ]
  },
  {
   "cell_type": "code",
   "execution_count": 16,
   "metadata": {},
   "outputs": [
    {
     "name": "stdout",
     "output_type": "stream",
     "text": [
      "RandomForestClassifier 0.9679090909090909\n"
     ]
    }
   ],
   "source": [
    "clf = rfclf\n",
    "clf.fit(X_train,y_train)\n",
    "y_pred=clf.predict(X_validation)\n",
    "print(clf.__class__.__name__,accuracy_score(y_validation,y_pred))\n"
   ]
  },
  {
   "cell_type": "code",
   "execution_count": 17,
   "metadata": {},
   "outputs": [],
   "source": [
    "X_test = X[60000:]\n",
    "y_test = y[60000:]"
   ]
  },
  {
   "cell_type": "code",
   "execution_count": 20,
   "metadata": {},
   "outputs": [
    {
     "name": "stdout",
     "output_type": "stream",
     "text": [
      "VotingClassifier 0.9683636363636363\n"
     ]
    },
    {
     "name": "stderr",
     "output_type": "stream",
     "text": [
      "/Users/iremkaraoglu/anaconda3/lib/python3.6/site-packages/sklearn/preprocessing/label.py:151: DeprecationWarning: The truth value of an empty array is ambiguous. Returning False, but in future this will result in an error. Use `array.size > 0` to check that an array is not empty.\n",
      "  if diff:\n"
     ]
    }
   ],
   "source": [
    "#HARD VOTING CLASSIFIER\n",
    "hard_voting_clf=VotingClassifier(estimators=[('rf',rfclf),('svc',svm_clf),('nb',nbclf)],\n",
    "                           voting='hard')\n",
    "clf = hard_voting_clf\n",
    "clf.fit(X_train,y_train)\n",
    "y_pred=clf.predict(X_validation)\n",
    "print(clf.__class__.__name__,accuracy_score(y_validation,y_pred))"
   ]
  },
  {
   "cell_type": "code",
   "execution_count": 21,
   "metadata": {},
   "outputs": [
    {
     "name": "stdout",
     "output_type": "stream",
     "text": [
      "SVC 0.9778\n"
     ]
    }
   ],
   "source": [
    "#SVM ON TEST SET\n",
    "clf = svm_clf\n",
    "clf.fit(X_train,y_train)\n",
    "y_pred=clf.predict(X_test)\n",
    "print(clf.__class__.__name__,accuracy_score(y_test,y_pred))"
   ]
  },
  {
   "cell_type": "code",
   "execution_count": null,
   "metadata": {},
   "outputs": [],
   "source": []
  }
 ],
 "metadata": {
  "kernelspec": {
   "display_name": "Python 3",
   "language": "python",
   "name": "python3"
  },
  "language_info": {
   "codemirror_mode": {
    "name": "ipython",
    "version": 3
   },
   "file_extension": ".py",
   "mimetype": "text/x-python",
   "name": "python",
   "nbconvert_exporter": "python",
   "pygments_lexer": "ipython3",
   "version": "3.6.5"
  }
 },
 "nbformat": 4,
 "nbformat_minor": 2
}
