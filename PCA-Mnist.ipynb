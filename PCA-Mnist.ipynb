{
 "cells": [
  {
   "cell_type": "code",
   "execution_count": 1,
   "metadata": {},
   "outputs": [],
   "source": [
    "import pandas as pd\n",
    "import numpy as np\n",
    "import matplotlib.pyplot as plt\n",
    "%matplotlib inline\n",
    "import scipy.sparse"
   ]
  },
  {
   "cell_type": "code",
   "execution_count": 2,
   "metadata": {},
   "outputs": [
    {
     "data": {
      "text/plain": [
       "{'DESCR': 'mldata.org dataset: mnist-original',\n",
       " 'COL_NAMES': ['label', 'data'],\n",
       " 'target': array([0., 0., 0., ..., 9., 9., 9.]),\n",
       " 'data': array([[0, 0, 0, ..., 0, 0, 0],\n",
       "        [0, 0, 0, ..., 0, 0, 0],\n",
       "        [0, 0, 0, ..., 0, 0, 0],\n",
       "        ...,\n",
       "        [0, 0, 0, ..., 0, 0, 0],\n",
       "        [0, 0, 0, ..., 0, 0, 0],\n",
       "        [0, 0, 0, ..., 0, 0, 0]], dtype=uint8)}"
      ]
     },
     "execution_count": 2,
     "metadata": {},
     "output_type": "execute_result"
    }
   ],
   "source": [
    "# Import MNIST Dataset\n",
    "from sklearn.datasets import fetch_mldata\n",
    "mnist=fetch_mldata('MNIST original')\n",
    "mnist"
   ]
  },
  {
   "cell_type": "code",
   "execution_count": 10,
   "metadata": {},
   "outputs": [
    {
     "data": {
      "text/plain": [
       "sklearn.utils.Bunch"
      ]
     },
     "execution_count": 10,
     "metadata": {},
     "output_type": "execute_result"
    }
   ],
   "source": [
    "type(mnist)"
   ]
  },
  {
   "cell_type": "code",
   "execution_count": 3,
   "metadata": {},
   "outputs": [
    {
     "data": {
      "text/plain": [
       "(70000, 784)"
      ]
     },
     "execution_count": 3,
     "metadata": {},
     "output_type": "execute_result"
    }
   ],
   "source": [
    "X,y=mnist[\"data\"],mnist[\"target\"]\n",
    "X.shape"
   ]
  },
  {
   "cell_type": "code",
   "execution_count": 4,
   "metadata": {},
   "outputs": [
    {
     "data": {
      "text/plain": [
       "array([0, 0, 0, ..., 9, 9, 9])"
      ]
     },
     "execution_count": 4,
     "metadata": {},
     "output_type": "execute_result"
    }
   ],
   "source": [
    "y=y.astype(int)\n",
    "y"
   ]
  },
  {
   "cell_type": "code",
   "execution_count": 5,
   "metadata": {},
   "outputs": [],
   "source": [
    "# Dataset is splitted to Train and Test Set.\n",
    "X_train, X_test=X[:60000],X[60000:]\n",
    "y_train, y_test=y[:60000],y[60000:]"
   ]
  },
  {
   "cell_type": "code",
   "execution_count": 6,
   "metadata": {},
   "outputs": [
    {
     "name": "stdout",
     "output_type": "stream",
     "text": [
      "203.6909990310669\n",
      "RandomForestClassifier 0.9719\n"
     ]
    }
   ],
   "source": [
    "# Train a Random Forest classifier on the dataset and time how long it takes,\n",
    "# then evaluate the resulting model on the test set.\n",
    " \n",
    "from sklearn.ensemble import RandomForestClassifier\n",
    "import time\n",
    "from sklearn.metrics import accuracy_score\n",
    "\n",
    "start = time.time()\n",
    "\n",
    "rfclf=RandomForestClassifier(n_estimators=500, random_state=42)\n",
    "clf = rfclf\n",
    "clf.fit(X_train,y_train)\n",
    "\n",
    "end = time.time()\n",
    "print(end - start)\n",
    "\n",
    "y_pred=clf.predict(X_test)\n",
    "print(clf.__class__.__name__,accuracy_score(y_test,y_pred))\n"
   ]
  },
  {
   "cell_type": "code",
   "execution_count": 17,
   "metadata": {},
   "outputs": [
    {
     "name": "stdout",
     "output_type": "stream",
     "text": [
      "original shape:    (70000, 784)\n",
      "transformed shape: (70000, 154)\n"
     ]
    }
   ],
   "source": [
    "# Use PCA (Principal Component Analysis) to reduce \n",
    "# the dataset’s dimensionality, with an explained variance ratio of 95%. \n",
    "from sklearn.decomposition import PCA\n",
    "\n",
    "precent_of_variance_explained = .95\n",
    "pca = PCA(n_components=precent_of_variance_explained)\n",
    "pca_data = pca.fit_transform(X)\n",
    "pca.fit(X)\n",
    "X_pca = pca.transform(X)\n",
    "print(\"original shape:   \", X.shape)\n",
    "print(\"transformed shape:\", X_pca.shape)"
   ]
  },
  {
   "cell_type": "code",
   "execution_count": 20,
   "metadata": {},
   "outputs": [
    {
     "name": "stdout",
     "output_type": "stream",
     "text": [
      "485.88910818099976\n",
      "RandomForestClassifier 0.9521\n"
     ]
    }
   ],
   "source": [
    "# Train a new Random Forest classifier on the reduced dataset\n",
    "# and see how long it takes again.\n",
    "\n",
    "X_train, X_test=X_pca[:60000],X_pca[60000:]\n",
    "y_train, y_test=y[:60000],y[60000:]\n",
    "\n",
    "start = time.time()\n",
    "\n",
    "rfclf=RandomForestClassifier(n_estimators=500, random_state=42)\n",
    "clf = rfclf\n",
    "clf.fit(X_train,y_train)\n",
    "\n",
    "end = time.time()\n",
    "print(end - start)\n",
    "\n",
    "y_pred=clf.predict(X_test)\n",
    "print(clf.__class__.__name__,accuracy_score(y_test,y_pred))"
   ]
  }
 ],
 "metadata": {
  "kernelspec": {
   "display_name": "Python 3",
   "language": "python",
   "name": "python3"
  },
  "language_info": {
   "codemirror_mode": {
    "name": "ipython",
    "version": 3
   },
   "file_extension": ".py",
   "mimetype": "text/x-python",
   "name": "python",
   "nbconvert_exporter": "python",
   "pygments_lexer": "ipython3",
   "version": "3.6.5"
  }
 },
 "nbformat": 4,
 "nbformat_minor": 2
}
